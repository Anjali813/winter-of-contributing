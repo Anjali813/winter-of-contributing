{
 "cells": [
  {
   "cell_type": "raw",
   "metadata": {
    "id": "f1RdizChnGj6"
   },
   "source": [
    "                                        I/O SYSTEM:\n",
    "\n",
    "Feature of I/O system:-\n",
    " \n",
    "* Communicate with multiple sources and destinations.\n",
    "* Input/output varied entities.\n",
    "* Communicate in multiple ways.\n",
    "* Deal with underlying file system.\n",
    "\n",
    "Types of data used for I/O:\n",
    "\n",
    "* Text \n",
    "* Binary\n",
    "\n",
    "Sequence of operations in File I/O:\n",
    "\n",
    "STEP 1: Open a file.\n",
    "\n",
    "STEP 2: Read/Write data to file.\n",
    "\n",
    "STEP 3: Close the file.\n",
    "\n",
    "**OPENING FILE FOR READING**--file=open(file_name,'r')\n",
    "\n",
    "**OPENING FILE FOR WRITING**--file=open(file_name,'w')\n",
    "\n",
    "**CLOSING THE FILE**--file.close()\n",
    "\n",
    "**NOTE:-** *Using with keyword while opening the file the closes itself after its work is done Ex:*\n",
    " \n",
    "      with open(file_name,'r') as file:\n",
    "\n",
    "           content=file.read()\n",
    "\n",
    "**Write operation methods:**\n",
    "\n",
    "\n",
    "1.   Writing strings:\n",
    "\n",
    "          *   file.write(data_you_want_to_write)\n",
    "          *   file.writelines(more_than_one_data_you_want_to_write)\n",
    "\n",
    "\n",
    "2.   Writing non-strings (First we need to convert them in string):\n",
    "\n",
    "          *   file.write(str(object_name))\n",
    "\n",
    "**Read operation methods:**\n",
    "\n",
    "          *   file.read() -- reads all contents of the file and returns as string\n",
    "          *   file.read(n) -- reads n characters and return as strings\n",
    "          *   file.readline() -- reads a line and return as strings\n",
    "          *   file.readlines() -- reads all lines and return as strings\n",
    "\n",
    "**Ways to read a file line by line till end:**\n",
    "* Method 1:"
   ]
  },
  {
   "cell_type": "code",
   "execution_count": null,
   "metadata": {
    "id": "-8ZiRjqcMLzc"
   },
   "outputs": [],
   "source": [
    "while 1:\n",
    "  content=file.readline()\n",
    "  if content=='':                                                               # when end of file is reached\n",
    "    break\n",
    "  else:\n",
    "    continue\n",
    "print(content,end=\"\")"
   ]
  },
  {
   "cell_type": "markdown",
   "metadata": {
    "id": "MC1SOfOuNqlH"
   },
   "source": [
    "  * Method 2:"
   ]
  },
  {
   "cell_type": "code",
   "execution_count": null,
   "metadata": {
    "id": "OVdtqNdcNzut"
   },
   "outputs": [],
   "source": [
    "for content in file:\n",
    "  print(content,end=\"\")"
   ]
  },
  {
   "cell_type": "markdown",
   "metadata": {
    "id": "LVxTYM4GOagv"
   },
   "source": [
    "**File Opening Modes:**\n",
    "\n",
    "*  'r'--opens file for reading in text mode\n",
    "*  'rb'--opens file for reading in text mode in binary format\n",
    "*  'w'--opens file for writing in text mode\n",
    "*  'wb'--opens file for writing in text mode in binary format\n",
    "*  'a'--opens file for appending in text mode\n",
    "*  'ab'--opens file for appending in text mode in binary format\n",
    "*  'r+'--opens file for reading and writing\n",
    "*  'rb+'--opens file for reading and writing in binary format\n",
    "*  'w+'--opens file for reading and writing\n",
    "*  'wb+'--opens file for reading and writing in binary format\n",
    "*  'a+'--opens file for appending and reading\n",
    "*  'ab+'--opens file for appending and reading in binary format\n",
    "\n",
    "\n",
    "**Moving within a file:**\n",
    "\n",
    "*   file.read(1)--reades file character by character\n",
    "*   file.seek(position,reference)--moving to any postion before read/write operation\n",
    "      \n",
    "         --reference takes value 0,1,2 which represents starting,present and end of file respectively\n",
    "         --position represents position at which you want start read/write operation"
   ]
  },
  {
   "cell_type": "markdown",
   "metadata": {
    "id": "SVp2gdlhd82l"
   },
   "source": [
    "**Serialisation**\n",
    "\n",
    "*Serialisation:Conversion of Python data into appropiate JSON types before writing data to a file using json module is called   Serialisation. dump() is used for serialisation and writes the data to the file.* "
   ]
  },
  {
   "cell_type": "code",
   "execution_count": null,
   "metadata": {
    "id": "jI9KVS2-fQRy"
   },
   "outputs": [],
   "source": [
    "json.dump(python_data,file)"
   ]
  },
  {
   "cell_type": "markdown",
   "metadata": {
    "id": "dkkiMTMjfbxt"
   },
   "source": [
    "**Dserialisation**\n",
    "\n",
    "*Deserialisation:Conversion of JSON types into appropiate Python data using json module is called Deserialisation. load() is used for reading the file and then deserialising thereafter returning the converted data.* \n",
    "\n",
    "**NOTE:-**Deserialising a tuple , returns a list."
   ]
  },
  {
   "cell_type": "code",
   "execution_count": null,
   "metadata": {
    "id": "zzfUqI0tghmG"
   },
   "outputs": [],
   "source": [
    "converted_data=json.load(f)"
   ]
  }
 ],
 "metadata": {
  "colab": {
   "collapsed_sections": [],
   "name": "Python - Files I/O.ipynb",
   "provenance": []
  },
  "kernelspec": {
   "display_name": "Python 3",
   "language": "python",
   "name": "python3"
  },
  "language_info": {
   "codemirror_mode": {
    "name": "ipython",
    "version": 3
   },
   "file_extension": ".py",
   "mimetype": "text/x-python",
   "name": "python",
   "nbconvert_exporter": "python",
   "pygments_lexer": "ipython3",
   "version": "3.8.8"
  }
 },
 "nbformat": 4,
 "nbformat_minor": 1
}
